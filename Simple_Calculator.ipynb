{
  "nbformat": 4,
  "nbformat_minor": 0,
  "metadata": {
    "colab": {
      "provenance": [],
      "authorship_tag": "ABX9TyMaECZvNhbcWqaaqv7zhq39",
      "include_colab_link": true
    },
    "kernelspec": {
      "name": "python3",
      "display_name": "Python 3"
    },
    "language_info": {
      "name": "python"
    }
  },
  "cells": [
    {
      "cell_type": "markdown",
      "metadata": {
        "id": "view-in-github",
        "colab_type": "text"
      },
      "source": [
        "<a href=\"https://colab.research.google.com/github/trijalc10-svg/Annotated-Coding-Portfolio/blob/main/Simple_Calculator.ipynb\" target=\"_parent\"><img src=\"https://colab.research.google.com/assets/colab-badge.svg\" alt=\"Open In Colab\"/></a>"
      ]
    },
    {
      "cell_type": "code",
      "execution_count": 1,
      "metadata": {
        "id": "08NrFBNgGNRl",
        "colab": {
          "base_uri": "https://localhost:8080/"
        },
        "outputId": "cd76652f-e5fa-440c-d50b-9653be29c376"
      },
      "outputs": [
        {
          "output_type": "stream",
          "name": "stdout",
          "text": [
            "What function do you want to do? Type / , + , * , - , exponent. exponent\n",
            "num 1: 2\n",
            "num 2: 4\n",
            "16.0\n"
          ]
        }
      ],
      "source": [
        "# a simple calculator using arithmetic operators and if statements\n",
        "# what operator the user wants will be stored in the function variable and the numbers stored as num1 & num2\n",
        "# num1 & num2 variables typecasted to float to handle numbers with decimals\n",
        "function = input(\"What function do you want to do? Type / , + , * , - , exponent. \")\n",
        "num1 = float(input(\"num 1: \"))\n",
        "num2 = float(input(\"num 2: \"))\n",
        "# if statement to determine what operator to use\n",
        "# all answers rounded to 2 decimal places\n",
        "if function == \"/\":\n",
        "   answer = num1 / num2\n",
        "   print(round(answer, 2))\n",
        "elif function == \"+\":\n",
        "    answer = num1 + num2\n",
        "    print(round(answer, 2))\n",
        "elif function == \"*\":\n",
        "    answer = num1 * num2\n",
        "    print(round(answer, 2))\n",
        "elif function == \"-\":\n",
        "    answer = num1 - num2\n",
        "    print(round(answer, 2))\n",
        "elif function == \"exponent\":\n",
        "    answer = num1 ** num2\n",
        "    print(round(answer, 2))\n",
        "else:\n",
        "    print(\"function invalid\")\n"
      ]
    }
  ]
}