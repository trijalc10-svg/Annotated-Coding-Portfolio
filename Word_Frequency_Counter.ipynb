{
  "nbformat": 4,
  "nbformat_minor": 0,
  "metadata": {
    "colab": {
      "provenance": [],
      "authorship_tag": "ABX9TyOArLdrs6w/7zjMXBNiN5LC",
      "include_colab_link": true
    },
    "kernelspec": {
      "name": "python3",
      "display_name": "Python 3"
    },
    "language_info": {
      "name": "python"
    }
  },
  "cells": [
    {
      "cell_type": "markdown",
      "metadata": {
        "id": "view-in-github",
        "colab_type": "text"
      },
      "source": [
        "<a href=\"https://colab.research.google.com/github/trijalc10-svg/Annotated-Coding-Portfolio/blob/main/Word_Frequency_Counter.ipynb\" target=\"_parent\"><img src=\"https://colab.research.google.com/assets/colab-badge.svg\" alt=\"Open In Colab\"/></a>"
      ]
    },
    {
      "cell_type": "code",
      "source": [
        "# a word frequency counter which reads from a file, using string methods, dictionaries and lists, lambda and files\n",
        "import string # import string to help remove all punctuation\n",
        "try:\n",
        "  with open(\"text.txt\", \"r\") as f: # read from a file\n",
        "    text = f.read()\n",
        "except FileNotFoundError: # if file doesn't exist\n",
        "  text = input(\"Input Your text: \") # ask user for their text\n",
        "  with open(\"text.txt\", \"w\") as f: # creates file\n",
        "    f.write(text) # writes users text in file\n",
        "\n",
        "text = text.lower() # make everything lowercase\n",
        "remove_punc = str.maketrans(\"\", \"\", string.punctuation) # nothing is replaced with anything, but all punctuation will be deleted when translating\n",
        "\n",
        "text = text.translate(remove_punc) # translate text which is set to only remove punctuation\n",
        "\n",
        "word_count = {} # create an empty dictionary where words will be stored with their counts\n",
        "words = text.split() # split the text at every space and store as words\n",
        "\n",
        "for word in words: # for every word in words this runs\n",
        "    if word in word_count: # if the word already exists in the dictionary\n",
        "        word_count[word] += 1 # increase the count by 1\n",
        "    else: # otherwise (if it isn't already in the dictionary)\n",
        "        word_count[word] = 1 # start the count from 1\n",
        "\n",
        "sorted_words = sorted(word_count.items(), key=lambda x: x[1], reverse=True) # this turns the dictionary into a list with pairs so we can sort, then we sort by the value in largest to smallest\n",
        "\n",
        "for word, count in sorted_words[:10]: # from all sorted words, take the 10 words with the highest counts\n",
        "    print(f\"{word}: {count}\") # print these words with their word count"
      ],
      "metadata": {
        "colab": {
          "base_uri": "https://localhost:8080/"
        },
        "id": "7_9of_rn_PTT",
        "outputId": "d36168bb-a15a-4ebb-c57a-004393c3aa0a"
      },
      "execution_count": null,
      "outputs": [
        {
          "output_type": "stream",
          "name": "stdout",
          "text": [
            "Input Your text: Hello, Welcome to my house, please make yourself at home\n",
            "hello: 1\n",
            "welcome: 1\n",
            "to: 1\n",
            "my: 1\n",
            "house: 1\n",
            "please: 1\n",
            "make: 1\n",
            "yourself: 1\n",
            "at: 1\n",
            "home: 1\n"
          ]
        }
      ]
    }
  ]
}