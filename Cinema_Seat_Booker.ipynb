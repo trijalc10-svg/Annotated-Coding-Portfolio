{
  "nbformat": 4,
  "nbformat_minor": 0,
  "metadata": {
    "colab": {
      "provenance": [],
      "authorship_tag": "ABX9TyMksHM4p2s/MhVPExq9cnDg",
      "include_colab_link": true
    },
    "kernelspec": {
      "name": "python3",
      "display_name": "Python 3"
    },
    "language_info": {
      "name": "python"
    }
  },
  "cells": [
    {
      "cell_type": "markdown",
      "metadata": {
        "id": "view-in-github",
        "colab_type": "text"
      },
      "source": [
        "<a href=\"https://colab.research.google.com/github/trijalc10-svg/Annotated-Coding-Portfolio/blob/main/Cinema_Seat_Booker.ipynb\" target=\"_parent\"><img src=\"https://colab.research.google.com/assets/colab-badge.svg\" alt=\"Open In Colab\"/></a>"
      ]
    },
    {
      "cell_type": "code",
      "source": [
        "# a cinema seat booking program using nested loops and a 2d list\n",
        "seats = [[0, 0, 0, 0],\n",
        "         [0, 0, 0, 0],\n",
        "         [0, 0, 0, 0]] # seats are all empty to begin\n",
        "\n",
        "while True: # runs a while loop\n",
        "  print() # new line to separate\n",
        "  for row in seats: # for every row in seats variable\n",
        "    for seat in row: # for every seat in each row\n",
        "      print(seat, end=\" \") # print the seat with a space\n",
        "    print() # print a new line after each row\n",
        "\n",
        "  choice = input(\"\\nDo you want to book a seat? y/n \") # asks the user if they want to leave\n",
        "\n",
        "  if choice == \"n\": # if they do, allows user to escape loop\n",
        "    break\n",
        "\n",
        "  row = int(input(\"Enter your row: \")) - 1 # asks for their row as an integer -1 as the index is counted from 0\n",
        "  column = int(input(\"Enter your column: \")) - 1 # asks the column as an integer and -1 for same reason\n",
        "\n",
        "\n",
        "  if seats[row][column] == \"X\": # if the seat they select is already marked X\n",
        "    print(\"\\nThat seat is taken\") # tell them the seat is taken\n",
        "  else: # otherwise\n",
        "   seats[row][column] = \"X\" # mark that seat as X"
      ],
      "metadata": {
        "colab": {
          "base_uri": "https://localhost:8080/"
        },
        "id": "DVe76Rwn_dfg",
        "outputId": "dbed0fb7-ba86-4093-b101-9f4a3ba2b97d"
      },
      "execution_count": 1,
      "outputs": [
        {
          "name": "stdout",
          "output_type": "stream",
          "text": [
            "\n",
            "0 0 0 0 \n",
            "0 0 0 0 \n",
            "0 0 0 0 \n",
            "\n",
            "Do you want to book a seat? y/n y\n",
            "Enter your row: 1\n",
            "Enter your column: 4\n",
            "\n",
            "0 0 0 X \n",
            "0 0 0 0 \n",
            "0 0 0 0 \n",
            "\n",
            "Do you want to book a seat? y/n y\n",
            "Enter your row: 3\n",
            "Enter your column: 2\n",
            "\n",
            "0 0 0 X \n",
            "0 0 0 0 \n",
            "0 X 0 0 \n",
            "\n",
            "Do you want to book a seat? y/n n\n"
          ]
        }
      ]
    }
  ]
}