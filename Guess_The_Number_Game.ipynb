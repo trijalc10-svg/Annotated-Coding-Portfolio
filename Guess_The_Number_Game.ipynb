{
  "nbformat": 4,
  "nbformat_minor": 0,
  "metadata": {
    "colab": {
      "provenance": [],
      "authorship_tag": "ABX9TyNccBlHIU6XHw7io2+N/nEC",
      "include_colab_link": true
    },
    "kernelspec": {
      "name": "python3",
      "display_name": "Python 3"
    },
    "language_info": {
      "name": "python"
    }
  },
  "cells": [
    {
      "cell_type": "markdown",
      "metadata": {
        "id": "view-in-github",
        "colab_type": "text"
      },
      "source": [
        "<a href=\"https://colab.research.google.com/github/trijalc10-svg/Annotated-Coding-Portfolio/blob/main/Guess_The_Number_Game.ipynb\" target=\"_parent\"><img src=\"https://colab.research.google.com/assets/colab-badge.svg\" alt=\"Open In Colab\"/></a>"
      ]
    },
    {
      "cell_type": "code",
      "execution_count": 1,
      "metadata": {
        "colab": {
          "base_uri": "https://localhost:8080/"
        },
        "id": "oP7tIGvyKdqP",
        "outputId": "21155da7-8d82-40f4-f476-2b959a4c88ea"
      },
      "outputs": [
        {
          "output_type": "stream",
          "name": "stdout",
          "text": [
            "Guess a number between 1 and 10: 5\n",
            "Too low.\n",
            "Guess a number between 1 and 10: 7\n",
            "Too low.\n",
            "Guess a number between 1 and 10: 9\n",
            "Too low.\n",
            "Guess a number between 1 and 10: 10\n",
            "Correct! You guessed it in 4 attempts.\n"
          ]
        }
      ],
      "source": [
        "# guess the number game using while loop, boolean logic and relational operators\n",
        "import random\n",
        "\n",
        "num = random.randint(1, 10) # random integer generated 1-10 and stored as num\n",
        "guess = 0\n",
        "attempts = 0\n",
        "\n",
        "while guess != num: # guess set to 0 so this while loop runs\n",
        "    guess = int(input(\"Guess a number between 1 and 10: \")) # user inputs an integer\n",
        "\n",
        "    valid = (guess >= 1 and guess <= 10)   # boolean logic to check if guess is valid\n",
        "\n",
        "    if not valid:\n",
        "        print(\"Out of range. Try again.\") # sends back to start of while loop for invalid guess\n",
        "    else:\n",
        "        attempts += 1 # only valid attempts are counted as guesses\n",
        "        if guess < num:\n",
        "            print(\"Too low.\")\n",
        "        elif guess > num:\n",
        "            print(\"Too high.\") # user given hints and sent back to the start of the loop when wrong\n",
        "        else:\n",
        "            print(f\"Correct! You guessed it in {attempts} attempts.\") # user told their attempts when they get it right"
      ]
    }
  ]
}